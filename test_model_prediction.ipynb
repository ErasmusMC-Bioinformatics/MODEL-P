{
 "cells": [
  {
   "cell_type": "code",
   "execution_count": 1,
   "metadata": {},
   "outputs": [],
   "source": [
    "import pandas\n",
    "import numpy as np"
   ]
  },
  {
   "cell_type": "code",
   "execution_count": 2,
   "metadata": {},
   "outputs": [],
   "source": [
    "from sklearn.model_selection import GridSearchCV, train_test_split,cross_val_score,StratifiedKFold,KFold\n",
    "from sklearn.metrics import confusion_matrix,accuracy_score,silhouette_score#,calinski_harabaz_score\n",
    "from sklearn.ensemble import GradientBoostingClassifier\n",
    "from sklearn.feature_selection import SelectKBest,f_classif,SelectFdr\n",
    "from sklearn import svm\n",
    "from sklearn import preprocessing\n",
    "from matplotlib import pyplot as plt\n",
    "from sklearn.preprocessing import normalize,RobustScaler,StandardScaler,MinMaxScaler"
   ]
  },
  {
   "cell_type": "code",
   "execution_count": 3,
   "metadata": {},
   "outputs": [],
   "source": [
    "# read data\n",
    "methy = pandas.read_csv(\"pancreatic_cancer/input data/methylation2.csv\")\n",
    "mrna = pandas.read_csv(\"pancreatic_cancer/input data/mrna.csv\")\n",
    "mirna = pandas.read_csv(\"pancreatic_cancer/input data/mirna.csv\")\n",
    "clinical_new = pandas.read_csv(\"pancreatic_cancer/clinical_data3.csv\")\n",
    "# \n",
    "clinical_new = clinical_new.drop(['Unnamed: 0'], axis = 1)\n",
    "clinical_new = clinical_new[['bcr_patient_barcode','vital_status','survival']]\n",
    "\n",
    "methy = methy.drop(['Unnamed: 0'], axis=1)\n",
    "mrna = mrna.drop(['Unnamed: 0'], axis=1)\n",
    "mirna = mirna.drop(['Unnamed: 0'], axis=1)\n",
    "\n",
    "methy = methy.set_index(['Group.1'])\n",
    "mrna = mrna.set_index(['Group.1'])\n",
    "mirna = mirna.set_index(['GeneSymbol'])\n",
    "\n",
    "methy = methy.transpose()\n",
    "mrna = mrna.transpose()\n",
    "mirna = mirna.transpose()\n",
    "\n",
    "# data log2 transformation\n",
    "mrna = np.log2(mrna+1)\n",
    "mirna = np.log2(mirna+1)"
   ]
  },
  {
   "cell_type": "code",
   "execution_count": 4,
   "metadata": {
    "scrolled": true
   },
   "outputs": [],
   "source": [
    "# vital status has to be 0/1 not 1/2\n",
    "clinical_new[[\"vital_status\"]] = clinical_new[[\"vital_status\"]] -1\n",
    "\n",
    "data_all = pandas.concat([methy,mrna,mirna],axis = 1)\n",
    "data_all2 = data_all.loc[clinical_new['bcr_patient_barcode'],:]"
   ]
  },
  {
   "cell_type": "code",
   "execution_count": 5,
   "metadata": {},
   "outputs": [],
   "source": [
    "# class label\n",
    "label_all = pandas.read_csv(\"pancreatic cancer/class_label.txt\")\n",
    "predictor_mrna = pandas.read_csv(\"pancreatic cancer/predictor_mrna.txt\")\n",
    "predictor_mirna = pandas.read_csv(\"pancreatic cancer/predictor_mirna.txt\")\n",
    "predictor_methy = pandas.read_csv(\"pancreatic cancer/predictor_methy.txt\")"
   ]
  },
  {
   "cell_type": "code",
   "execution_count": 6,
   "metadata": {},
   "outputs": [],
   "source": [
    "mrna_train = mrna.loc[clinical_new['bcr_patient_barcode'],:]\n",
    "mirna_train = mirna.loc[clinical_new['bcr_patient_barcode'],:]\n",
    "methy_train = methy.loc[clinical_new['bcr_patient_barcode'],:]"
   ]
  },
  {
   "cell_type": "markdown",
   "metadata": {},
   "source": [
    "define functions"
   ]
  },
  {
   "cell_type": "code",
   "execution_count": 22,
   "metadata": {},
   "outputs": [],
   "source": [
    "# train the classifier for prediction\n",
    "def train_svm(train,test):\n",
    "    \n",
    "    #normalizr\n",
    "    train1 = MinMaxScaler().fit_transform(train.transpose()).transpose()\n",
    "    test1 = MinMaxScaler().fit_transform(test.transpose()).transpose()\n",
    "    train1 = RobustScaler().fit_transform(train1)\n",
    "    test1 = RobustScaler().fit_transform(test1)\n",
    "    \n",
    "    train1 = pandas.DataFrame(train1,columns = train.columns)\n",
    "    test1 = pandas.DataFrame(test1,columns = test.columns)\n",
    "    \n",
    "    train_select = SelectFdr(f_classif).fit(train1,label_all).get_support(indices = True)\n",
    "    train2 = train1.iloc[:,train_select]\n",
    "    #print(train2.columns)\n",
    "    test2 = test1.iloc[:,train_select]\n",
    "    \n",
    "    svm_parameters = {\n",
    "        #'kernel': ['rbf','sigmoid','poly','linear'],#\n",
    "        'C': [0.0001,0.0005,0.001,0.005,0.01,0.05,0.1,0.5],#,1,1.5,2,2.5,3,3.5,4,4.5,,5.5,6,6.5,7,7.5,8,8.5,9,9.5,10\n",
    "        'coef0': [0.001,0.005,0.05,0.1,0.25,0.5,0.75,1],#,1.5,2,2.5\n",
    "        #'degree' : [2,4,3],\n",
    "        'gamma': [0.001,0.005,0.01,0.05,0.1,0.5,1,1.5,2,2.5,3]}#0.0001,0.0005,\n",
    "\n",
    "    svm_tune = GridSearchCV(estimator=svm.SVC(kernel = 'sigmoid'),param_grid=svm_parameters,cv=3)#,iid = False,probability = True,class_weight = 'balanced'\n",
    "    svm_tune.fit(train2,label_all)\n",
    "    \n",
    "    print(cross_val_score(svm_tune, train2,label_all, cv=3))\n",
    "    print(svm_tune.best_params_)\n",
    "    \n",
    "    # predict\n",
    "    pre = svm_tune.predict(test2)\n",
    "    #pre2 = svm_tune.predict_proba(test2)\n",
    "    \n",
    "    return pre"
   ]
  },
  {
   "cell_type": "markdown",
   "metadata": {},
   "source": [
    "ICGC mRNA-seq"
   ]
  },
  {
   "cell_type": "code",
   "execution_count": 11,
   "metadata": {
    "scrolled": true
   },
   "outputs": [],
   "source": [
    "au_rna = pandas.read_csv(\"pancreatic_cancer/external dataset/PDAC_AU/rnaseq.tsv\")\n",
    "# au_rna = au_rna.drop(['Unnamed: 0'], axis=1)\n",
    "\n",
    "au_rna = au_rna.set_index(['Unnamed: 0'])\n",
    "# au_rna = au_rna.transpose()\n",
    "# au_rna = np.log2(au_rna+1)\n",
    "# au_rna"
   ]
  },
  {
   "cell_type": "code",
   "execution_count": 13,
   "metadata": {},
   "outputs": [],
   "source": [
    "common_gene = predictor_mrna.intersection(au_rna.columns)\n",
    "train_panel = mrna_train[list(common_gene)]\n",
    "test_panel = au_rna[list(common_gene)]"
   ]
  },
  {
   "cell_type": "code",
   "execution_count": 14,
   "metadata": {},
   "outputs": [],
   "source": [
    "common_gene = predictor_mrna.intersection(au_rna.columns)\n",
    "train_panel = mrna_train[list(common_gene)]\n",
    "test_panel = au_rna[list(common_gene)]\n",
    "# predict\n",
    "pred1 = train_svm(train_panel,test_panel)"
   ]
  },
  {
   "cell_type": "markdown",
   "metadata": {},
   "source": [
    "ICGC mrna array"
   ]
  },
  {
   "cell_type": "code",
   "execution_count": 15,
   "metadata": {},
   "outputs": [],
   "source": [
    "au_mrna_array = pandas.read_csv(\"pancreatic_cancer/external dataset/PDAC_AU/mrna_array.tsv\")\n",
    "\n",
    "au_mrna_array = au_mrna_array.drop(['Unnamed: 0'],axis = 1)\n",
    "au_mrna_array = au_mrna_array.set_index([\"Group.1\"])\n",
    "\n",
    "au_mrna_array = au_mrna_array.transpose()"
   ]
  },
  {
   "cell_type": "code",
   "execution_count": 18,
   "metadata": {},
   "outputs": [],
   "source": [
    "common_gene = predictor_mrna.intersection(au_mrna_array.columns)\n",
    "train_panel = mrna_train[list(common_gene)]\n",
    "test_panel = au_mrna_array[list(common_gene)]\n",
    "\n",
    "pred2 = train_svm(train_panel,test_panel)"
   ]
  },
  {
   "cell_type": "markdown",
   "metadata": {},
   "source": [
    "geo mrna array"
   ]
  },
  {
   "cell_type": "code",
   "execution_count": 20,
   "metadata": {
    "scrolled": true
   },
   "outputs": [],
   "source": [
    "geo_mrna = pandas.read_csv(\"pancreatic_cancer/external dataset/PDAC_GEO_mrna/mrna.tsv\")\n",
    "geo_mrna = geo_mrna.drop(['Unnamed: 0'],axis = 1)\n",
    "geo_mrna = geo_mrna.set_index([\"Group.1\"])\n",
    "\n",
    "geo_mrna = np.log2(geo_mrna+1)\n",
    "geo_mrna = geo_mrna.transpose()"
   ]
  },
  {
   "cell_type": "code",
   "execution_count": 23,
   "metadata": {},
   "outputs": [],
   "source": [
    "common_gene = predictor_mrna.intersection(geo_mrna.columns)\n",
    "train_panel = mrna_train[list(common_gene)]\n",
    "test_panel = geo_mrna[list(common_gene)]\n",
    "\n",
    "pred3 = train_svm(train_panel,test_panel)"
   ]
  },
  {
   "cell_type": "markdown",
   "metadata": {},
   "source": [
    "geo pdac mirna"
   ]
  },
  {
   "cell_type": "code",
   "execution_count": 31,
   "metadata": {
    "scrolled": true
   },
   "outputs": [],
   "source": [
    "geo_mirna = pandas.read_csv(\"pancreatic_cancer/external dataset/PDAC_GEO_mirna/mirna.tsv\",sep = \"\\t\")\n",
    "geo_mirna = geo_mirna.set_index(['Unnamed: 0'])\n",
    "# geo_mirna = geo_mirna.drop(['Unnamed: 0'],axis = 1)\n",
    "geo_mirna = np.log2(geo_mirna+1)\n",
    "# geo_mirna"
   ]
  },
  {
   "cell_type": "code",
   "execution_count": 32,
   "metadata": {},
   "outputs": [],
   "source": [
    "common_gene = predictor_mirna.intersection(geo_mirna.columns)\n",
    "train_panel = mirna_train[list(common_gene)]\n",
    "test_panel = geo_mirna[list(common_gene)]"
   ]
  },
  {
   "cell_type": "code",
   "execution_count": 33,
   "metadata": {},
   "outputs": [],
   "source": [
    "common_gene = predictor_mirna.intersection(geo_mirna.columns)\n",
    "train_panel = mirna_train[list(common_gene)]\n",
    "test_panel = geo_mirna[list(common_gene)]\n",
    "\n",
    "pred4 = train_svm(train_panel,test_panel)"
   ]
  },
  {
   "cell_type": "markdown",
   "metadata": {},
   "source": [
    "australia pdac methylation"
   ]
  },
  {
   "cell_type": "code",
   "execution_count": 34,
   "metadata": {
    "scrolled": true
   },
   "outputs": [],
   "source": [
    "au_methy = pandas.read_csv(\"pancreatic_cancer/external dataset/PDAC_AU/methylation.tsv\")\n",
    "\n",
    "au_methy = au_methy.drop(['Unnamed: 0'], axis=1)\n",
    "au_methy = au_methy.set_index(['Group.1'])\n",
    "au_methy = au_methy.transpose()\n",
    "# au_methy"
   ]
  },
  {
   "cell_type": "code",
   "execution_count": 35,
   "metadata": {},
   "outputs": [],
   "source": [
    "common_gene = predictor_methy.intersection(au_methy.columns)\n",
    "train_panel = methy_train[list(common_gene)]\n",
    "test_panel = au_methy[list(common_gene)]\n",
    "\n",
    "pred5 = train_svm(train_panel,test_panel)"
   ]
  }
 ],
 "metadata": {
  "kernelspec": {
   "display_name": "Python 3",
   "language": "python",
   "name": "python3"
  },
  "language_info": {
   "codemirror_mode": {
    "name": "ipython",
    "version": 3
   },
   "file_extension": ".py",
   "mimetype": "text/x-python",
   "name": "python",
   "nbconvert_exporter": "python",
   "pygments_lexer": "ipython3",
   "version": "3.6.7"
  }
 },
 "nbformat": 4,
 "nbformat_minor": 2
}
