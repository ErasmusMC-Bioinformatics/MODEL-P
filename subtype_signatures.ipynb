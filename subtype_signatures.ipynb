{
 "cells": [
  {
   "cell_type": "code",
   "execution_count": 1,
   "metadata": {},
   "outputs": [],
   "source": [
    "import pandas\n",
    "import numpy as np"
   ]
  },
  {
   "cell_type": "code",
   "execution_count": 2,
   "metadata": {},
   "outputs": [],
   "source": [
    "from sklearn.model_selection import GridSearchCV, train_test_split,cross_val_score,StratifiedKFold,KFold\n",
    "from sklearn.metrics import confusion_matrix,accuracy_score,silhouette_score#,calinski_harabaz_score\n",
    "from sklearn.ensemble import GradientBoostingClassifier\n",
    "from sklearn.feature_selection import SelectKBest,f_classif,SelectFdr\n",
    "from sklearn import svm\n",
    "from sklearn import preprocessing\n",
    "from matplotlib import pyplot as plt\n",
    "from sklearn.preprocessing import normalize,RobustScaler,StandardScaler,MinMaxScaler"
   ]
  },
  {
   "cell_type": "code",
   "execution_count": 4,
   "metadata": {},
   "outputs": [],
   "source": [
    "# read data\n",
    "methy = pandas.read_csv(\"D:/1_Jie_OIO/pancreatic_cancer/input data/methylation2.csv\")\n",
    "mrna = pandas.read_csv(\"D:/1_Jie_OIO/pancreatic_cancer/input data/mrna.csv\")\n",
    "mirna = pandas.read_csv(\"D:/1_Jie_OIO/pancreatic_cancer/input data/mirna.csv\")\n",
    "clinical_new = pandas.read_csv(\"D:/1_Jie_OIO/pancreatic_cancer/clinical_data3.csv\")\n",
    "# \n",
    "clinical_new = clinical_new.drop(['Unnamed: 0'], axis = 1)\n",
    "clinical_new = clinical_new[['bcr_patient_barcode','vital_status','survival']]\n",
    "\n",
    "methy = methy.drop(['Unnamed: 0'], axis=1)\n",
    "mrna = mrna.drop(['Unnamed: 0'], axis=1)\n",
    "mirna = mirna.drop(['Unnamed: 0'], axis=1)\n",
    "\n",
    "methy = methy.set_index(['Group.1'])\n",
    "mrna = mrna.set_index(['Group.1'])\n",
    "mirna = mirna.set_index(['GeneSymbol'])\n",
    "\n",
    "methy = methy.transpose()\n",
    "mrna = mrna.transpose()\n",
    "mirna = mirna.transpose()\n",
    "\n",
    "# data log2 transformation\n",
    "mrna = np.log2(mrna+1)\n",
    "mirna = np.log2(mirna+1)"
   ]
  },
  {
   "cell_type": "code",
   "execution_count": 5,
   "metadata": {
    "scrolled": true
   },
   "outputs": [
    {
     "data": {
      "text/html": [
       "<div>\n",
       "<style scoped>\n",
       "    .dataframe tbody tr th:only-of-type {\n",
       "        vertical-align: middle;\n",
       "    }\n",
       "\n",
       "    .dataframe tbody tr th {\n",
       "        vertical-align: top;\n",
       "    }\n",
       "\n",
       "    .dataframe thead th {\n",
       "        text-align: right;\n",
       "    }\n",
       "</style>\n",
       "<table border=\"1\" class=\"dataframe\">\n",
       "  <thead>\n",
       "    <tr style=\"text-align: right;\">\n",
       "      <th></th>\n",
       "      <th>A1BG</th>\n",
       "      <th>A1BG-AS1</th>\n",
       "      <th>A1CF</th>\n",
       "      <th>A2M</th>\n",
       "      <th>A2ML1</th>\n",
       "      <th>A4GALT</th>\n",
       "      <th>A4GNT</th>\n",
       "      <th>AAAS</th>\n",
       "      <th>AACS</th>\n",
       "      <th>AACSP1</th>\n",
       "      <th>...</th>\n",
       "      <th>hsa-mir-937</th>\n",
       "      <th>hsa-mir-939</th>\n",
       "      <th>hsa-mir-940</th>\n",
       "      <th>hsa-mir-942</th>\n",
       "      <th>hsa-mir-944</th>\n",
       "      <th>hsa-mir-95</th>\n",
       "      <th>hsa-mir-96</th>\n",
       "      <th>hsa-mir-98</th>\n",
       "      <th>hsa-mir-99a</th>\n",
       "      <th>hsa-mir-99b</th>\n",
       "    </tr>\n",
       "  </thead>\n",
       "  <tbody>\n",
       "    <tr>\n",
       "      <th>TCGA.2J.AAB6</th>\n",
       "      <td>0.392125</td>\n",
       "      <td>0.443796</td>\n",
       "      <td>0.470523</td>\n",
       "      <td>0.587413</td>\n",
       "      <td>0.730783</td>\n",
       "      <td>0.481929</td>\n",
       "      <td>0.401216</td>\n",
       "      <td>0.081614</td>\n",
       "      <td>0.631308</td>\n",
       "      <td>0.789943</td>\n",
       "      <td>...</td>\n",
       "      <td>1.659146</td>\n",
       "      <td>0.310120</td>\n",
       "      <td>1.764731</td>\n",
       "      <td>0.970296</td>\n",
       "      <td>0.565228</td>\n",
       "      <td>2.806379</td>\n",
       "      <td>4.812427</td>\n",
       "      <td>5.570562</td>\n",
       "      <td>8.939383</td>\n",
       "      <td>14.976723</td>\n",
       "    </tr>\n",
       "    <tr>\n",
       "      <th>TCGA.2J.AAB8</th>\n",
       "      <td>0.503784</td>\n",
       "      <td>0.657865</td>\n",
       "      <td>0.671000</td>\n",
       "      <td>0.747297</td>\n",
       "      <td>0.745571</td>\n",
       "      <td>0.465296</td>\n",
       "      <td>0.555999</td>\n",
       "      <td>0.065306</td>\n",
       "      <td>0.688562</td>\n",
       "      <td>0.773821</td>\n",
       "      <td>...</td>\n",
       "      <td>0.835161</td>\n",
       "      <td>1.121734</td>\n",
       "      <td>1.500529</td>\n",
       "      <td>1.565665</td>\n",
       "      <td>0.606636</td>\n",
       "      <td>2.512059</td>\n",
       "      <td>3.122654</td>\n",
       "      <td>5.361682</td>\n",
       "      <td>8.882110</td>\n",
       "      <td>13.226844</td>\n",
       "    </tr>\n",
       "    <tr>\n",
       "      <th>TCGA.2J.AAB9</th>\n",
       "      <td>0.407150</td>\n",
       "      <td>0.551150</td>\n",
       "      <td>0.607378</td>\n",
       "      <td>0.714571</td>\n",
       "      <td>0.774303</td>\n",
       "      <td>0.478354</td>\n",
       "      <td>0.558286</td>\n",
       "      <td>0.096926</td>\n",
       "      <td>0.702072</td>\n",
       "      <td>0.846118</td>\n",
       "      <td>...</td>\n",
       "      <td>0.282327</td>\n",
       "      <td>0.282327</td>\n",
       "      <td>0.898881</td>\n",
       "      <td>1.448498</td>\n",
       "      <td>1.199706</td>\n",
       "      <td>2.290066</td>\n",
       "      <td>3.169561</td>\n",
       "      <td>5.349524</td>\n",
       "      <td>9.336851</td>\n",
       "      <td>14.191277</td>\n",
       "    </tr>\n",
       "    <tr>\n",
       "      <th>TCGA.2J.AABA</th>\n",
       "      <td>0.537019</td>\n",
       "      <td>0.692183</td>\n",
       "      <td>0.677414</td>\n",
       "      <td>0.646668</td>\n",
       "      <td>0.744123</td>\n",
       "      <td>0.485663</td>\n",
       "      <td>0.528758</td>\n",
       "      <td>0.062211</td>\n",
       "      <td>0.670515</td>\n",
       "      <td>0.819271</td>\n",
       "      <td>...</td>\n",
       "      <td>0.000000</td>\n",
       "      <td>0.253555</td>\n",
       "      <td>0.469137</td>\n",
       "      <td>1.724951</td>\n",
       "      <td>0.656654</td>\n",
       "      <td>0.656654</td>\n",
       "      <td>1.724951</td>\n",
       "      <td>4.576809</td>\n",
       "      <td>10.267290</td>\n",
       "      <td>13.527318</td>\n",
       "    </tr>\n",
       "    <tr>\n",
       "      <th>TCGA.2J.AABE</th>\n",
       "      <td>0.485248</td>\n",
       "      <td>0.632153</td>\n",
       "      <td>0.649158</td>\n",
       "      <td>0.756352</td>\n",
       "      <td>0.739516</td>\n",
       "      <td>0.485606</td>\n",
       "      <td>0.497274</td>\n",
       "      <td>0.086935</td>\n",
       "      <td>0.647609</td>\n",
       "      <td>0.786354</td>\n",
       "      <td>...</td>\n",
       "      <td>1.158019</td>\n",
       "      <td>0.611445</td>\n",
       "      <td>0.434945</td>\n",
       "      <td>1.553472</td>\n",
       "      <td>0.768687</td>\n",
       "      <td>3.266121</td>\n",
       "      <td>3.463099</td>\n",
       "      <td>5.252521</td>\n",
       "      <td>9.104412</td>\n",
       "      <td>13.860464</td>\n",
       "    </tr>\n",
       "    <tr>\n",
       "      <th>...</th>\n",
       "      <td>...</td>\n",
       "      <td>...</td>\n",
       "      <td>...</td>\n",
       "      <td>...</td>\n",
       "      <td>...</td>\n",
       "      <td>...</td>\n",
       "      <td>...</td>\n",
       "      <td>...</td>\n",
       "      <td>...</td>\n",
       "      <td>...</td>\n",
       "      <td>...</td>\n",
       "      <td>...</td>\n",
       "      <td>...</td>\n",
       "      <td>...</td>\n",
       "      <td>...</td>\n",
       "      <td>...</td>\n",
       "      <td>...</td>\n",
       "      <td>...</td>\n",
       "      <td>...</td>\n",
       "      <td>...</td>\n",
       "      <td>...</td>\n",
       "    </tr>\n",
       "    <tr>\n",
       "      <th>TCGA.XD.AAUL</th>\n",
       "      <td>0.430066</td>\n",
       "      <td>0.616884</td>\n",
       "      <td>0.601854</td>\n",
       "      <td>0.727783</td>\n",
       "      <td>0.716007</td>\n",
       "      <td>0.465204</td>\n",
       "      <td>0.560235</td>\n",
       "      <td>0.068362</td>\n",
       "      <td>0.656267</td>\n",
       "      <td>0.788165</td>\n",
       "      <td>...</td>\n",
       "      <td>1.521978</td>\n",
       "      <td>0.501787</td>\n",
       "      <td>1.168577</td>\n",
       "      <td>2.367276</td>\n",
       "      <td>1.168577</td>\n",
       "      <td>1.521978</td>\n",
       "      <td>3.587736</td>\n",
       "      <td>5.772403</td>\n",
       "      <td>9.206623</td>\n",
       "      <td>13.619919</td>\n",
       "    </tr>\n",
       "    <tr>\n",
       "      <th>TCGA.XN.A8T3</th>\n",
       "      <td>0.389799</td>\n",
       "      <td>0.508017</td>\n",
       "      <td>0.622184</td>\n",
       "      <td>0.761291</td>\n",
       "      <td>0.710781</td>\n",
       "      <td>0.480178</td>\n",
       "      <td>0.544202</td>\n",
       "      <td>0.065075</td>\n",
       "      <td>0.669153</td>\n",
       "      <td>0.834831</td>\n",
       "      <td>...</td>\n",
       "      <td>0.761530</td>\n",
       "      <td>0.231214</td>\n",
       "      <td>1.148449</td>\n",
       "      <td>2.824518</td>\n",
       "      <td>2.751920</td>\n",
       "      <td>4.279853</td>\n",
       "      <td>4.506384</td>\n",
       "      <td>5.888266</td>\n",
       "      <td>9.208170</td>\n",
       "      <td>14.478188</td>\n",
       "    </tr>\n",
       "    <tr>\n",
       "      <th>TCGA.YB.A89D</th>\n",
       "      <td>0.505117</td>\n",
       "      <td>0.648158</td>\n",
       "      <td>0.712331</td>\n",
       "      <td>0.791110</td>\n",
       "      <td>0.744692</td>\n",
       "      <td>0.486454</td>\n",
       "      <td>0.604904</td>\n",
       "      <td>0.065248</td>\n",
       "      <td>0.662704</td>\n",
       "      <td>0.822138</td>\n",
       "      <td>...</td>\n",
       "      <td>0.143124</td>\n",
       "      <td>0.143124</td>\n",
       "      <td>0.701117</td>\n",
       "      <td>1.765008</td>\n",
       "      <td>0.955049</td>\n",
       "      <td>2.427698</td>\n",
       "      <td>3.676404</td>\n",
       "      <td>5.942291</td>\n",
       "      <td>10.096909</td>\n",
       "      <td>13.867643</td>\n",
       "    </tr>\n",
       "    <tr>\n",
       "      <th>TCGA.YY.A8LH</th>\n",
       "      <td>0.568815</td>\n",
       "      <td>0.737544</td>\n",
       "      <td>0.500254</td>\n",
       "      <td>0.773945</td>\n",
       "      <td>0.655661</td>\n",
       "      <td>0.541389</td>\n",
       "      <td>0.582060</td>\n",
       "      <td>0.084887</td>\n",
       "      <td>0.619335</td>\n",
       "      <td>0.862767</td>\n",
       "      <td>...</td>\n",
       "      <td>1.051422</td>\n",
       "      <td>0.689655</td>\n",
       "      <td>1.340416</td>\n",
       "      <td>1.721752</td>\n",
       "      <td>0.205673</td>\n",
       "      <td>2.833695</td>\n",
       "      <td>5.227565</td>\n",
       "      <td>6.105980</td>\n",
       "      <td>9.825959</td>\n",
       "      <td>14.498457</td>\n",
       "    </tr>\n",
       "    <tr>\n",
       "      <th>TCGA.Z5.AAPL</th>\n",
       "      <td>0.607810</td>\n",
       "      <td>0.833238</td>\n",
       "      <td>0.750544</td>\n",
       "      <td>0.760145</td>\n",
       "      <td>0.824764</td>\n",
       "      <td>0.454881</td>\n",
       "      <td>0.580102</td>\n",
       "      <td>0.083901</td>\n",
       "      <td>0.719544</td>\n",
       "      <td>0.788918</td>\n",
       "      <td>...</td>\n",
       "      <td>1.565084</td>\n",
       "      <td>0.834775</td>\n",
       "      <td>1.565084</td>\n",
       "      <td>4.092831</td>\n",
       "      <td>2.408626</td>\n",
       "      <td>2.861684</td>\n",
       "      <td>3.672842</td>\n",
       "      <td>5.956966</td>\n",
       "      <td>9.050686</td>\n",
       "      <td>14.301179</td>\n",
       "    </tr>\n",
       "  </tbody>\n",
       "</table>\n",
       "<p>146 rows × 38597 columns</p>\n",
       "</div>"
      ],
      "text/plain": [
       "                  A1BG  A1BG-AS1      A1CF       A2M     A2ML1    A4GALT  \\\n",
       "TCGA.2J.AAB6  0.392125  0.443796  0.470523  0.587413  0.730783  0.481929   \n",
       "TCGA.2J.AAB8  0.503784  0.657865  0.671000  0.747297  0.745571  0.465296   \n",
       "TCGA.2J.AAB9  0.407150  0.551150  0.607378  0.714571  0.774303  0.478354   \n",
       "TCGA.2J.AABA  0.537019  0.692183  0.677414  0.646668  0.744123  0.485663   \n",
       "TCGA.2J.AABE  0.485248  0.632153  0.649158  0.756352  0.739516  0.485606   \n",
       "...                ...       ...       ...       ...       ...       ...   \n",
       "TCGA.XD.AAUL  0.430066  0.616884  0.601854  0.727783  0.716007  0.465204   \n",
       "TCGA.XN.A8T3  0.389799  0.508017  0.622184  0.761291  0.710781  0.480178   \n",
       "TCGA.YB.A89D  0.505117  0.648158  0.712331  0.791110  0.744692  0.486454   \n",
       "TCGA.YY.A8LH  0.568815  0.737544  0.500254  0.773945  0.655661  0.541389   \n",
       "TCGA.Z5.AAPL  0.607810  0.833238  0.750544  0.760145  0.824764  0.454881   \n",
       "\n",
       "                 A4GNT      AAAS      AACS    AACSP1  ...  hsa-mir-937  \\\n",
       "TCGA.2J.AAB6  0.401216  0.081614  0.631308  0.789943  ...     1.659146   \n",
       "TCGA.2J.AAB8  0.555999  0.065306  0.688562  0.773821  ...     0.835161   \n",
       "TCGA.2J.AAB9  0.558286  0.096926  0.702072  0.846118  ...     0.282327   \n",
       "TCGA.2J.AABA  0.528758  0.062211  0.670515  0.819271  ...     0.000000   \n",
       "TCGA.2J.AABE  0.497274  0.086935  0.647609  0.786354  ...     1.158019   \n",
       "...                ...       ...       ...       ...  ...          ...   \n",
       "TCGA.XD.AAUL  0.560235  0.068362  0.656267  0.788165  ...     1.521978   \n",
       "TCGA.XN.A8T3  0.544202  0.065075  0.669153  0.834831  ...     0.761530   \n",
       "TCGA.YB.A89D  0.604904  0.065248  0.662704  0.822138  ...     0.143124   \n",
       "TCGA.YY.A8LH  0.582060  0.084887  0.619335  0.862767  ...     1.051422   \n",
       "TCGA.Z5.AAPL  0.580102  0.083901  0.719544  0.788918  ...     1.565084   \n",
       "\n",
       "              hsa-mir-939  hsa-mir-940  hsa-mir-942  hsa-mir-944  hsa-mir-95  \\\n",
       "TCGA.2J.AAB6     0.310120     1.764731     0.970296     0.565228    2.806379   \n",
       "TCGA.2J.AAB8     1.121734     1.500529     1.565665     0.606636    2.512059   \n",
       "TCGA.2J.AAB9     0.282327     0.898881     1.448498     1.199706    2.290066   \n",
       "TCGA.2J.AABA     0.253555     0.469137     1.724951     0.656654    0.656654   \n",
       "TCGA.2J.AABE     0.611445     0.434945     1.553472     0.768687    3.266121   \n",
       "...                   ...          ...          ...          ...         ...   \n",
       "TCGA.XD.AAUL     0.501787     1.168577     2.367276     1.168577    1.521978   \n",
       "TCGA.XN.A8T3     0.231214     1.148449     2.824518     2.751920    4.279853   \n",
       "TCGA.YB.A89D     0.143124     0.701117     1.765008     0.955049    2.427698   \n",
       "TCGA.YY.A8LH     0.689655     1.340416     1.721752     0.205673    2.833695   \n",
       "TCGA.Z5.AAPL     0.834775     1.565084     4.092831     2.408626    2.861684   \n",
       "\n",
       "              hsa-mir-96  hsa-mir-98  hsa-mir-99a  hsa-mir-99b  \n",
       "TCGA.2J.AAB6    4.812427    5.570562     8.939383    14.976723  \n",
       "TCGA.2J.AAB8    3.122654    5.361682     8.882110    13.226844  \n",
       "TCGA.2J.AAB9    3.169561    5.349524     9.336851    14.191277  \n",
       "TCGA.2J.AABA    1.724951    4.576809    10.267290    13.527318  \n",
       "TCGA.2J.AABE    3.463099    5.252521     9.104412    13.860464  \n",
       "...                  ...         ...          ...          ...  \n",
       "TCGA.XD.AAUL    3.587736    5.772403     9.206623    13.619919  \n",
       "TCGA.XN.A8T3    4.506384    5.888266     9.208170    14.478188  \n",
       "TCGA.YB.A89D    3.676404    5.942291    10.096909    13.867643  \n",
       "TCGA.YY.A8LH    5.227565    6.105980     9.825959    14.498457  \n",
       "TCGA.Z5.AAPL    3.672842    5.956966     9.050686    14.301179  \n",
       "\n",
       "[146 rows x 38597 columns]"
      ]
     },
     "execution_count": 5,
     "metadata": {},
     "output_type": "execute_result"
    }
   ],
   "source": [
    "# vital status has to be 0/1 not 1/2\n",
    "clinical_new[[\"vital_status\"]] = clinical_new[[\"vital_status\"]] -1\n",
    "\n",
    "data_all = pandas.concat([methy,mrna,mirna],axis = 1)\n",
    "data_all2 = data_all.loc[clinical_new['bcr_patient_barcode'],:]\n",
    "data_all2"
   ]
  },
  {
   "cell_type": "code",
   "execution_count": 7,
   "metadata": {},
   "outputs": [],
   "source": [
    "# class label\n",
    "label_all = pandas.read_csv(\"D:/1_Jie_OIO/pancreatic cancer/class_label.txt\")"
   ]
  },
  {
   "cell_type": "code",
   "execution_count": 6,
   "metadata": {},
   "outputs": [],
   "source": [
    "label_all = [0, 1, 1, 1, 0, 1, 1, 1, 1, 1, 0, 1, 0, 0, 1, 0, 1, 1, 1, 1, 0, 1,\n",
    "             1, 0, 1, 0, 0, 1, 1, 1, 1, 1, 1, 1, 1, 0, 1, 1, 0, 0, 1, 0, 1, 1,\n",
    "             1, 1, 1, 0, 1, 0, 1, 0, 0, 0, 1, 1, 1, 1, 1, 1, 1, 0, 1, 0, 1, 1,\n",
    "             1, 1, 1, 1, 1, 0, 1, 1, 1, 1, 1, 1, 1, 1, 1, 1, 0, 0, 1, 0, 1, 1,\n",
    "             1, 1, 1, 0, 1, 1, 1, 0, 1, 0, 1, 1, 0, 1, 0, 1, 0, 1, 0, 0, 0, 0,\n",
    "             1, 0, 1, 1, 0, 1, 1, 1, 1, 1, 0, 0, 1, 1, 1, 0, 1, 1, 1, 1, 1, 0,\n",
    "             0, 1, 1, 1, 1, 1, 1, 1, 1, 1, 1, 0, 1, 1]"
   ]
  },
  {
   "cell_type": "markdown",
   "metadata": {},
   "source": [
    "australia pdac mrna"
   ]
  },
  {
   "cell_type": "code",
   "execution_count": 7,
   "metadata": {},
   "outputs": [],
   "source": [
    "mrna_train = mrna.loc[clinical_new['bcr_patient_barcode'],:]\n",
    "mirna_train = mirna.loc[clinical_new['bcr_patient_barcode'],:]\n",
    "methy_train = methy.loc[clinical_new['bcr_patient_barcode'],:]"
   ]
  },
  {
   "cell_type": "markdown",
   "metadata": {},
   "source": [
    "define functions"
   ]
  },
  {
   "cell_type": "code",
   "execution_count": 8,
   "metadata": {},
   "outputs": [],
   "source": [
    "def single_omics(train_panel,label_all):\n",
    "    #norm1\n",
    "    train_panel1 = MinMaxScaler().fit_transform(train_panel.transpose()).transpose()\n",
    "    train_panel1 = RobustScaler().fit_transform(train_panel1)            \n",
    "        \n",
    "    train_panel1 = pandas.DataFrame(train_panel1,columns = train_panel.columns) \n",
    "\n",
    "    mrna_f = [0]*30\n",
    "    result = [0]*30\n",
    "\n",
    "    svm_parameters = {\n",
    "        'kernel': ['rbf','sigmoid','linear'],#,'rbf','sigmoid','poly','linear'\n",
    "        'C': [0.001,0.005,0.01,0.05,0.1,0.5,0.75,1],#0.0001,0.0005,,0.25,0.5,0.75,1,1.25,1.5,1.75,2\n",
    "        #'coef0': [0.001,0.005,0.01,0.05,0.1,0.25,0.5],#0.0005,0.01,,1.5,2,2.5\n",
    "        #'degree' : [2,4,3],\n",
    "        'gamma': [0.0001,0.001,0.01,0.1,0.25,0.5]}#0.001,0.0025,0.005,0.75,1,,1.2,1.5,2,2.2,2.5\n",
    "    \n",
    "    for n in range(5,155,5):\n",
    "        i = int(n/5-1)\n",
    "        # methy or mrna? K\n",
    "        mrna_f[i] = SelectKBest(f_classif,k=n).fit_transform(train_panel1,label_all)\n",
    "        #mrna_f[i] = train_panel1.loc[:,mirna_fea[0:k]].dropna(axis = 1)\n",
    "        svm_tune = GridSearchCV(estimator=svm.SVC(kernel='rbf'),param_grid=svm_parameters,cv=3)#,iid = False,class_weight = 'balanced'\n",
    "        #svm_tune.fit(mrna_f[i],label_all)\n",
    "        svm_tune.fit(pandas.DataFrame(mrna_f[i]),label_all)\n",
    "        \n",
    "        result[i] = cross_val_score(svm_tune, mrna_f[i],label_all, cv=3).mean()\n",
    "\n",
    "    # find maximum accuracy\n",
    "    k_max = (result.index(max(result)) +1)*5\n",
    "    print(k_max)\n",
    "    \n",
    "    omics_select = SelectKBest(f_classif,k = k_max).fit(train_panel1,label_all).get_support(indices = True)\n",
    "    train_panel2 = train_panel1.iloc[:,omics_select]   \n",
    "\n",
    "    print(train_panel2.columns)\n",
    "    \n",
    "    return train_panel2.columns, result"
   ]
  },
  {
   "cell_type": "markdown",
   "metadata": {},
   "source": [
    "subtype predictor mRNA"
   ]
  },
  {
   "cell_type": "code",
   "execution_count": 119,
   "metadata": {},
   "outputs": [
    {
     "name": "stdout",
     "output_type": "stream",
     "text": [
      "120\n",
      "Index(['ABCB1', 'ACKR1', 'ACSM5', 'ADAMTS8', 'ADCY5', 'ADGRB3', 'ANKRD55',\n",
      "       'ANKS1B', 'ASPA', 'ASPH',\n",
      "       ...\n",
      "       'TMEM88', 'TNNT1', 'TPX2', 'TRPM6', 'UPK2', 'VIPR2', 'ZFP82', 'ZNF385D',\n",
      "       'ZNF582', 'ZNF835'],\n",
      "      dtype='object', name='Group.1', length=120)\n"
     ]
    }
   ],
   "source": [
    "# no fdr\n",
    "prediction_mrna = single_omics(mrna_train,label_all)\n",
    "predictor_all = prediction_mrna[0]\n",
    "performance_feature = prediction_mrna[1]"
   ]
  },
  {
   "cell_type": "code",
   "execution_count": 130,
   "metadata": {
    "scrolled": true
   },
   "outputs": [
    {
     "data": {
      "text/plain": [
       "[0.7532596371882087,\n",
       " 0.8289399092970521,\n",
       " 0.86281179138322,\n",
       " 0.86281179138322,\n",
       " 0.8696145124716553,\n",
       " 0.8765589569160998,\n",
       " 0.8630952380952381,\n",
       " 0.8493480725623582,\n",
       " 0.8764172335600907,\n",
       " 0.8424036281179138,\n",
       " 0.8696145124716553,\n",
       " 0.8764172335600907,\n",
       " 0.8900226757369615,\n",
       " 0.8900226757369615,\n",
       " 0.8696145124716553,\n",
       " 0.8626700680272109,\n",
       " 0.8694727891156463,\n",
       " 0.8833616780045351,\n",
       " 0.8900226757369615,\n",
       " 0.8832199546485261,\n",
       " 0.8832199546485261,\n",
       " 0.8696145124716553,\n",
       " 0.86281179138322,\n",
       " 0.8901643990929705,\n",
       " 0.8832199546485261,\n",
       " 0.8832199546485261,\n",
       " 0.8697562358276644,\n",
       " 0.8694727891156463,\n",
       " 0.8901643990929705,\n",
       " 0.8765589569160998,\n",
       " 0.8561507936507936,\n",
       " 0.8560090702947846,\n",
       " 0.8901643990929705,\n",
       " 0.8764172335600907,\n",
       " 0.8560090702947846,\n",
       " 0.862953514739229,\n",
       " 0.8832199546485261,\n",
       " 0.8901643990929705,\n",
       " 0.8832199546485261,\n",
       " 0.8764172335600907]"
      ]
     },
     "execution_count": 130,
     "metadata": {},
     "output_type": "execute_result"
    }
   ],
   "source": [
    "performance_feature = prediction_mrna[1]\n",
    "performance_feature"
   ]
  },
  {
   "cell_type": "code",
   "execution_count": 132,
   "metadata": {},
   "outputs": [
    {
     "data": {
      "text/plain": [
       "[<matplotlib.lines.Line2D at 0x1ef719d0400>]"
      ]
     },
     "execution_count": 132,
     "metadata": {},
     "output_type": "execute_result"
    },
    {
     "data": {
      "image/png": "[encoded data removed]",
      "text/plain": [
       "<Figure size 432x288 with 1 Axes>"
      ]
     },
     "metadata": {
      "needs_background": "light"
     },
     "output_type": "display_data"
    }
   ],
   "source": [
    "performance_feature = prediction[1]\n",
    "plt.plot(performance_feature)"
   ]
  },
  {
   "cell_type": "markdown",
   "metadata": {},
   "source": [
    "geo pdac mirna"
   ]
  },
  {
   "cell_type": "code",
   "execution_count": 157,
   "metadata": {},
   "outputs": [],
   "source": [
    "# mirna predictor\n",
    "mirna_train = mirna.loc[clinical_new['bcr_patient_barcode'],:]"
   ]
  },
  {
   "cell_type": "code",
   "execution_count": 160,
   "metadata": {
    "scrolled": true
   },
   "outputs": [
    {
     "name": "stdout",
     "output_type": "stream",
     "text": [
      "120\n",
      "Index(['hsa-let-7c', 'hsa-mir-101-1', 'hsa-mir-101-2', 'hsa-mir-10b',\n",
      "       'hsa-mir-1179', 'hsa-mir-1224', 'hsa-mir-1247', 'hsa-mir-1248',\n",
      "       'hsa-mir-125b-1', 'hsa-mir-125b-2',\n",
      "       ...\n",
      "       'hsa-mir-887', 'hsa-mir-889', 'hsa-mir-891a', 'hsa-mir-9-1',\n",
      "       'hsa-mir-9-2', 'hsa-mir-92b', 'hsa-mir-934', 'hsa-mir-937',\n",
      "       'hsa-mir-944', 'hsa-mir-99a'],\n",
      "      dtype='object', name='GeneSymbol', length=120)\n"
     ]
    },
    {
     "data": {
      "text/plain": [
       "[<matplotlib.lines.Line2D at 0x1ef71db7828>]"
      ]
     },
     "execution_count": 160,
     "metadata": {},
     "output_type": "execute_result"
    },
    {
     "data": {
      "image/png": "[encoded data removed]",
      "text/plain": [
       "<Figure size 432x288 with 1 Axes>"
      ]
     },
     "metadata": {
      "needs_background": "light"
     },
     "output_type": "display_data"
    }
   ],
   "source": [
    "prediction_mirna = single_omics(mirna_train,label_all)\n",
    "predictor_mirna = prediction_mirna[0]\n",
    "performance_feature = prediction_mirna[1]\n",
    "# 120 miRNA\n",
    "plt.plot(performance_feature)"
   ]
  },
  {
   "cell_type": "markdown",
   "metadata": {},
   "source": [
    "australia pdac methylation"
   ]
  },
  {
   "cell_type": "code",
   "execution_count": 166,
   "metadata": {},
   "outputs": [
    {
     "name": "stdout",
     "output_type": "stream",
     "text": [
      "90\n",
      "Index(['ADAMTS20', 'ADGRF4', 'ARL14', 'C14orf39', 'C5orf38', 'DEFB135',\n",
      "       'DKFZP434H168', 'DLX5', 'DLX6AS', 'EVX2', 'FAM25A', 'FOXG1', 'GAD1',\n",
      "       'GDPD4', 'GORASP2', 'HBB', 'HOXA7', 'HOXA9', 'HOXD8', 'HRH1', 'IRX2',\n",
      "       'ITGA4', 'LOC729384', 'LOC91450', 'MIR1200', 'MIR1249', 'MIR129-2',\n",
      "       'MIR137', 'MIR663A', 'MMP13', 'MSX1', 'NETO1', 'NKX2-4', 'NPFFR1',\n",
      "       'NRN1', 'ODAPH', 'OR10J3', 'OR10S1', 'OR2T4', 'OR8D2', 'OR8G1', 'OR8G5',\n",
      "       'PAX9', 'PCDHB15', 'PCDHGA1', 'PCDHGA10', 'PCDHGA11', 'PCDHGA12',\n",
      "       'PCDHGA2', 'PCDHGA3', 'PCDHGA4', 'PCDHGA5', 'PCDHGA6', 'PCDHGA7',\n",
      "       'PCDHGA8', 'PCDHGA9', 'PCDHGB1', 'PCDHGB2', 'PCDHGB3', 'PCDHGB4',\n",
      "       'PCDHGB5', 'PCDHGB6', 'PCDHGB7', 'PCDHGC4', 'PENK', 'PI3', 'PITX2',\n",
      "       'PLET1', 'POLR1A', 'POU3F3', 'PRDM8', 'RPL23AP82', 'RTL9', 'RYK',\n",
      "       'SFT2D3', 'SIRPG', 'SIX2', 'SLURP1', 'SNORD114-18', 'SNORD114-19',\n",
      "       'SRPX2', 'SULT1C4', 'TBR1', 'TRIP13', 'TTLL1', 'WT1-AS', 'ZFP42',\n",
      "       'ZIC1', 'ZNF154', 'ZNF382'],\n",
      "      dtype='object', name='Group.1')\n"
     ]
    },
    {
     "data": {
      "text/plain": [
       "[<matplotlib.lines.Line2D at 0x1ef71b24668>]"
      ]
     },
     "execution_count": 166,
     "metadata": {},
     "output_type": "execute_result"
    },
    {
     "data": {
      "image/png": "[encoded data removed]",
      "text/plain": [
       "<Figure size 432x288 with 1 Axes>"
      ]
     },
     "metadata": {
      "needs_background": "light"
     },
     "output_type": "display_data"
    }
   ],
   "source": [
    "prediction_methy2 = single_omics(methy_train,label_all)\n",
    "predictor_methy2 = prediction_methy2[0]\n",
    "performance_feature2 = prediction_methy2[1]\n",
    "# \n",
    "plt.plot(performance_feature)"
   ]
  },
  {
   "cell_type": "code",
   "execution_count": 168,
   "metadata": {},
   "outputs": [
    {
     "data": {
      "text/plain": [
       "[<matplotlib.lines.Line2D at 0x1ef718edeb8>]"
      ]
     },
     "execution_count": 168,
     "metadata": {},
     "output_type": "execute_result"
    },
    {
     "data": {
      "image/png": "[encoded data removed]",
      "text/plain": [
       "<Figure size 432x288 with 1 Axes>"
      ]
     },
     "metadata": {
      "needs_background": "light"
     },
     "output_type": "display_data"
    }
   ],
   "source": [
    "plt.plot(performance_feature2)"
   ]
  }
 ],
 "metadata": {
  "kernelspec": {
   "display_name": "Python 3",
   "language": "python",
   "name": "python3"
  },
  "language_info": {
   "codemirror_mode": {
    "name": "ipython",
    "version": 3
   },
   "file_extension": ".py",
   "mimetype": "text/x-python",
   "name": "python",
   "nbconvert_exporter": "python",
   "pygments_lexer": "ipython3",
   "version": "3.6.7"
  }
 },
 "nbformat": 4,
 "nbformat_minor": 2
}
